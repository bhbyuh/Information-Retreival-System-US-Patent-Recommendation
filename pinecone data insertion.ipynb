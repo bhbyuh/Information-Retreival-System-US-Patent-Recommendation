{
 "cells": [
  {
   "cell_type": "code",
   "execution_count": 2,
   "metadata": {},
   "outputs": [],
   "source": [
    "from langchain.chat_models import ChatOpenAI\n",
    "import os\n",
    "from dotenv import load_dotenv\n",
    "import pandas as pd"
   ]
  },
  {
   "cell_type": "code",
   "execution_count": 3,
   "metadata": {},
   "outputs": [
    {
     "name": "stderr",
     "output_type": "stream",
     "text": [
      "C:\\Users\\muaaz\\AppData\\Local\\Temp\\ipykernel_21152\\2819571407.py:4: LangChainDeprecationWarning: The class `ChatOpenAI` was deprecated in LangChain 0.0.10 and will be removed in 1.0. An updated version of the class exists in the :class:`~langchain-openai package and should be used instead. To use it run `pip install -U :class:`~langchain-openai` and import as `from :class:`~langchain_openai import ChatOpenAI``.\n",
      "  llm=ChatOpenAI(model=\"gpt-4o-mini\",temperature=0)\n"
     ]
    }
   ],
   "source": [
    "load_dotenv()\n",
    "\n",
    "openai_key=os.getenv(\"OPENAI_API_KEY\")\n",
    "llm=ChatOpenAI(model=\"gpt-4o-mini\",temperature=0)\n",
    "\n",
    "from langchain_openai import OpenAIEmbeddings\n",
    "\n",
    "embeddings = OpenAIEmbeddings(\n",
    "    model=\"text-embedding-ada-002\",\n",
    "    api_key=openai_key\n",
    ")"
   ]
  },
  {
   "cell_type": "code",
   "execution_count": 56,
   "metadata": {},
   "outputs": [
    {
     "name": "stderr",
     "output_type": "stream",
     "text": [
      "C:\\Users\\muaaz\\AppData\\Local\\Temp\\ipykernel_1816\\4156294302.py:1: DtypeWarning: Columns (1) have mixed types. Specify dtype option on import or set low_memory=False.\n",
      "  data=pd.read_csv(\"idmanual.csv\")\n"
     ]
    },
    {
     "data": {
      "text/plain": [
       "(68719, 9)"
      ]
     },
     "execution_count": 56,
     "metadata": {},
     "output_type": "execute_result"
    }
   ],
   "source": [
    "data=pd.read_csv(\"idmanual.csv\")\n",
    "data.shape"
   ]
  },
  {
   "cell_type": "code",
   "execution_count": 40,
   "metadata": {},
   "outputs": [
    {
     "data": {
      "text/html": [
       "<div>\n",
       "<style scoped>\n",
       "    .dataframe tbody tr th:only-of-type {\n",
       "        vertical-align: middle;\n",
       "    }\n",
       "\n",
       "    .dataframe tbody tr th {\n",
       "        vertical-align: top;\n",
       "    }\n",
       "\n",
       "    .dataframe thead th {\n",
       "        text-align: right;\n",
       "    }\n",
       "</style>\n",
       "<table border=\"1\" class=\"dataframe\">\n",
       "  <thead>\n",
       "    <tr style=\"text-align: right;\">\n",
       "      <th></th>\n",
       "      <th>Term ID</th>\n",
       "      <th>Class</th>\n",
       "      <th>Description</th>\n",
       "      <th>Status</th>\n",
       "      <th>Effective Date</th>\n",
       "      <th>Type</th>\n",
       "      <th>Notes</th>\n",
       "      <th>TM5</th>\n",
       "      <th>NCL Version</th>\n",
       "    </tr>\n",
       "  </thead>\n",
       "  <tbody>\n",
       "    <tr>\n",
       "      <th>0</th>\n",
       "      <td>010-859</td>\n",
       "      <td>10</td>\n",
       "      <td>Nebulizer for administering medication in the ...</td>\n",
       "      <td>M</td>\n",
       "      <td>06/04/2015</td>\n",
       "      <td>GOODS</td>\n",
       "      <td>On 06-04-2015, this 08-07-2008 entry was amend...</td>\n",
       "      <td>NaN</td>\n",
       "      <td>\"10-2015\"</td>\n",
       "    </tr>\n",
       "    <tr>\n",
       "      <th>1</th>\n",
       "      <td>024-65</td>\n",
       "      <td>24</td>\n",
       "      <td>Brocade</td>\n",
       "      <td>A</td>\n",
       "      <td>04/02/1991</td>\n",
       "      <td>GOODS</td>\n",
       "      <td>06-04-2015: Brocade is a fabric woven with an ...</td>\n",
       "      <td>NaN</td>\n",
       "      <td>\"07-1997\"</td>\n",
       "    </tr>\n",
       "    <tr>\n",
       "      <th>2</th>\n",
       "      <td>024-85</td>\n",
       "      <td>24</td>\n",
       "      <td>Cheviot fabric</td>\n",
       "      <td>A</td>\n",
       "      <td>04/02/1991</td>\n",
       "      <td>GOODS</td>\n",
       "      <td>06-04-2015: Cheviot fabric is a coarse woolen ...</td>\n",
       "      <td>NaN</td>\n",
       "      <td>\"07-1997\"</td>\n",
       "    </tr>\n",
       "    <tr>\n",
       "      <th>3</th>\n",
       "      <td>024-152</td>\n",
       "      <td>24</td>\n",
       "      <td>Duvets</td>\n",
       "      <td>A</td>\n",
       "      <td>04/02/1991</td>\n",
       "      <td>GOODS</td>\n",
       "      <td>06-04-2015: A duvet is a type of quilt, usuall...</td>\n",
       "      <td>T</td>\n",
       "      <td>\"07-1997\"</td>\n",
       "    </tr>\n",
       "    <tr>\n",
       "      <th>4</th>\n",
       "      <td>024-1326</td>\n",
       "      <td>24</td>\n",
       "      <td>Unfitted fabric covers for vehicle seats</td>\n",
       "      <td>A</td>\n",
       "      <td>06/04/2015</td>\n",
       "      <td>GOODS</td>\n",
       "      <td>NaN</td>\n",
       "      <td>NaN</td>\n",
       "      <td>\"10-2015\"</td>\n",
       "    </tr>\n",
       "  </tbody>\n",
       "</table>\n",
       "</div>"
      ],
      "text/plain": [
       "    Term ID Class                                        Description Status  \\\n",
       "0   010-859    10  Nebulizer for administering medication in the ...      M   \n",
       "1    024-65    24                                            Brocade      A   \n",
       "2    024-85    24                                     Cheviot fabric      A   \n",
       "3   024-152    24                                             Duvets      A   \n",
       "4  024-1326    24           Unfitted fabric covers for vehicle seats      A   \n",
       "\n",
       "  Effective Date   Type                                              Notes  \\\n",
       "0     06/04/2015  GOODS  On 06-04-2015, this 08-07-2008 entry was amend...   \n",
       "1     04/02/1991  GOODS  06-04-2015: Brocade is a fabric woven with an ...   \n",
       "2     04/02/1991  GOODS  06-04-2015: Cheviot fabric is a coarse woolen ...   \n",
       "3     04/02/1991  GOODS  06-04-2015: A duvet is a type of quilt, usuall...   \n",
       "4     06/04/2015  GOODS                                                NaN   \n",
       "\n",
       "   TM5 NCL Version  \n",
       "0  NaN   \"10-2015\"  \n",
       "1  NaN   \"07-1997\"  \n",
       "2  NaN   \"07-1997\"  \n",
       "3    T   \"07-1997\"  \n",
       "4  NaN   \"10-2015\"  "
      ]
     },
     "execution_count": 40,
     "metadata": {},
     "output_type": "execute_result"
    }
   ],
   "source": [
    "data.head()"
   ]
  },
  {
   "cell_type": "code",
   "execution_count": 57,
   "metadata": {},
   "outputs": [
    {
     "data": {
      "text/plain": [
       "array(['10', '24', '30', '12', '5', '35', '41', '7', '42', '36', '22',\n",
       "       '31', '9', '37', '44', '4', '20', '39', '28', '3', '11', '17',\n",
       "       '21', '40', '33', '6', '1', '14', '15', '34', '13', '16', '26',\n",
       "       '8', '25', '38', '27', '19', '29', '18', '45', '32', '2', '23',\n",
       "       '0', '43', 'A', 'B', '200', 9, 20, 21, 7, 15, 29, 17, 10, 12, 1, 5,\n",
       "       30, 3, 43, 34, 45, 44, 18, 25, 16, 28, 6, 35, 31, 37, 8, 2, 4, 40,\n",
       "       19, 24, 38, 11, 42, 14, 41, 33, 26, 13, 32, 39, 36, 22, 23, 27, 0],\n",
       "      dtype=object)"
      ]
     },
     "execution_count": 57,
     "metadata": {},
     "output_type": "execute_result"
    }
   ],
   "source": [
    "data['Class'].unique()"
   ]
  },
  {
   "cell_type": "code",
   "execution_count": 58,
   "metadata": {},
   "outputs": [
    {
     "data": {
      "text/plain": [
       "(68715, 9)"
      ]
     },
     "execution_count": 58,
     "metadata": {},
     "output_type": "execute_result"
    }
   ],
   "source": [
    "data=data[data['Class']!=\"A\"]\n",
    "data=data[data['Class']!=\"B\"]\n",
    "data=data[data['Class']!=\"200\"]\n",
    "data.shape"
   ]
  },
  {
   "cell_type": "code",
   "execution_count": 59,
   "metadata": {},
   "outputs": [],
   "source": [
    "convert_dict = {'Class': int}\n",
    "# Convert column type using the dictionary\n",
    "data = data.astype(convert_dict)"
   ]
  },
  {
   "cell_type": "code",
   "execution_count": 60,
   "metadata": {},
   "outputs": [
    {
     "name": "stdout",
     "output_type": "stream",
     "text": [
      "Number of Unique claesses  46\n"
     ]
    },
    {
     "data": {
      "text/plain": [
       "array([10, 24, 30, 12,  5, 35, 41,  7, 42, 36, 22, 31,  9, 37, 44,  4, 20,\n",
       "       39, 28,  3, 11, 17, 21, 40, 33,  6,  1, 14, 15, 34, 13, 16, 26,  8,\n",
       "       25, 38, 27, 19, 29, 18, 45, 32,  2, 23,  0, 43])"
      ]
     },
     "execution_count": 60,
     "metadata": {},
     "output_type": "execute_result"
    }
   ],
   "source": [
    "print(\"Number of Unique claesses \",len(data['Class'].unique()))\n",
    "data['Class'].unique()"
   ]
  },
  {
   "cell_type": "code",
   "execution_count": 61,
   "metadata": {},
   "outputs": [
    {
     "name": "stdout",
     "output_type": "stream",
     "text": [
      "(32, 9)\n",
      "(0, 9)\n"
     ]
    }
   ],
   "source": [
    "print(data[data['Class']==0].shape)\n",
    "print(data[data['Class']==200].shape)"
   ]
  },
  {
   "cell_type": "code",
   "execution_count": 62,
   "metadata": {},
   "outputs": [],
   "source": [
    "classes = [\n",
    "    \"Placeholder for Concept\",  # 0 index\n",
    "    \"Chemicals\",  # Class 1\n",
    "    \"Paints\",  # Class 2\n",
    "    \"Cosmetics and Cleaning Preparations\",  # Class 3\n",
    "    \"Lubricants and Fuels\",  # Class 4\n",
    "    \"Pharmaceuticals\",  # Class 5\n",
    "    \"Metal Goods\",  # Class 6\n",
    "    \"Machinery\",  # Class 7\n",
    "    \"Hand Tools\",  # Class 8\n",
    "    \"Electrical and Scientific Apparatus\",  # Class 9\n",
    "    \"Medical Apparatus\",  # Class 10\n",
    "    \"Environmental Control Apparatus\",  # Class 11\n",
    "    \"Vehicles\",  # Class 12\n",
    "    \"Firearms\",  # Class 13\n",
    "    \"Jewelry\",  # Class 14\n",
    "    \"Musical Instruments\",  # Class 15\n",
    "    \"Paper goods and Printed Matter\",  # Class 16\n",
    "    \"Rubber Goods\",  # Class 17\n",
    "    \"Leather Goods\",  # Class 18\n",
    "    \"Nonmetallic Building Materials\",  # Class 19\n",
    "    \"Furniture and Articles not Otherwise Classified\",  # Class 20\n",
    "    \"Housewares and Glass\",  # Class 21\n",
    "    \"Cordage and Fibers\",  # Class 22\n",
    "    \"Yarns and Threads\",  # Class 23\n",
    "    \"Fabrics\",  # Class 24\n",
    "    \"Clothing\",  # Class 25\n",
    "    \"Fancy Goods\",  # Class 26\n",
    "    \"Floor Coverings\",  # Class 27\n",
    "    \"Toys and Sporting Goods\",  # Class 28\n",
    "    \"Meats and Processed Foods\",  # Class 29\n",
    "    \"Staple Foods\",  # Class 30\n",
    "    \"Natural Agricultural Products\",  # Class 31\n",
    "    \"Light Beverages\",  # Class 32\n",
    "    \"Wine and Spirits\",  # Class 33\n",
    "    \"Smokers’ Articles\",  # Class 34\n",
    "    \"Advertising and Business\",  # Class 35\n",
    "    \"Insurance and Financial\",  # Class 36\n",
    "    \"Building Construction and Repair\",  # Class 37\n",
    "    \"Telecommunications\",  # Class 38\n",
    "    \"Transportation and Storage\",  # Class 39\n",
    "    \"Treatment of Materials\",  # Class 40\n",
    "    \"Education and Entertainment\",  # Class 41\n",
    "    \"Computer and Scientific\",  # Class 42\n",
    "    \"Hotels and Restaurants\",  # Class 43\n",
    "    \"Medical, Beauty & Agricultural\",  # Class 44\n",
    "    \"Personal\",  # Class 45\n",
    "]"
   ]
  },
  {
   "cell_type": "code",
   "execution_count": 63,
   "metadata": {},
   "outputs": [
    {
     "data": {
      "text/html": [
       "<div>\n",
       "<style scoped>\n",
       "    .dataframe tbody tr th:only-of-type {\n",
       "        vertical-align: middle;\n",
       "    }\n",
       "\n",
       "    .dataframe tbody tr th {\n",
       "        vertical-align: top;\n",
       "    }\n",
       "\n",
       "    .dataframe thead th {\n",
       "        text-align: right;\n",
       "    }\n",
       "</style>\n",
       "<table border=\"1\" class=\"dataframe\">\n",
       "  <thead>\n",
       "    <tr style=\"text-align: right;\">\n",
       "      <th></th>\n",
       "      <th>Term ID</th>\n",
       "      <th>Class</th>\n",
       "      <th>Description</th>\n",
       "      <th>Status</th>\n",
       "      <th>Effective Date</th>\n",
       "      <th>Type</th>\n",
       "      <th>Notes</th>\n",
       "      <th>TM5</th>\n",
       "      <th>NCL Version</th>\n",
       "      <th>Class Name</th>\n",
       "    </tr>\n",
       "  </thead>\n",
       "  <tbody>\n",
       "    <tr>\n",
       "      <th>0</th>\n",
       "      <td>010-859</td>\n",
       "      <td>10</td>\n",
       "      <td>Nebulizer for administering medication in the ...</td>\n",
       "      <td>M</td>\n",
       "      <td>06/04/2015</td>\n",
       "      <td>GOODS</td>\n",
       "      <td>On 06-04-2015, this 08-07-2008 entry was amend...</td>\n",
       "      <td>NaN</td>\n",
       "      <td>\"10-2015\"</td>\n",
       "      <td>Medical Apparatus</td>\n",
       "    </tr>\n",
       "    <tr>\n",
       "      <th>1</th>\n",
       "      <td>024-65</td>\n",
       "      <td>24</td>\n",
       "      <td>Brocade</td>\n",
       "      <td>A</td>\n",
       "      <td>04/02/1991</td>\n",
       "      <td>GOODS</td>\n",
       "      <td>06-04-2015: Brocade is a fabric woven with an ...</td>\n",
       "      <td>NaN</td>\n",
       "      <td>\"07-1997\"</td>\n",
       "      <td>Fabrics</td>\n",
       "    </tr>\n",
       "    <tr>\n",
       "      <th>2</th>\n",
       "      <td>024-85</td>\n",
       "      <td>24</td>\n",
       "      <td>Cheviot fabric</td>\n",
       "      <td>A</td>\n",
       "      <td>04/02/1991</td>\n",
       "      <td>GOODS</td>\n",
       "      <td>06-04-2015: Cheviot fabric is a coarse woolen ...</td>\n",
       "      <td>NaN</td>\n",
       "      <td>\"07-1997\"</td>\n",
       "      <td>Fabrics</td>\n",
       "    </tr>\n",
       "    <tr>\n",
       "      <th>3</th>\n",
       "      <td>024-152</td>\n",
       "      <td>24</td>\n",
       "      <td>Duvets</td>\n",
       "      <td>A</td>\n",
       "      <td>04/02/1991</td>\n",
       "      <td>GOODS</td>\n",
       "      <td>06-04-2015: A duvet is a type of quilt, usuall...</td>\n",
       "      <td>T</td>\n",
       "      <td>\"07-1997\"</td>\n",
       "      <td>Fabrics</td>\n",
       "    </tr>\n",
       "    <tr>\n",
       "      <th>4</th>\n",
       "      <td>024-1326</td>\n",
       "      <td>24</td>\n",
       "      <td>Unfitted fabric covers for vehicle seats</td>\n",
       "      <td>A</td>\n",
       "      <td>06/04/2015</td>\n",
       "      <td>GOODS</td>\n",
       "      <td></td>\n",
       "      <td>NaN</td>\n",
       "      <td>\"10-2015\"</td>\n",
       "      <td>Fabrics</td>\n",
       "    </tr>\n",
       "    <tr>\n",
       "      <th>5</th>\n",
       "      <td>030-1515</td>\n",
       "      <td>30</td>\n",
       "      <td>Wontons</td>\n",
       "      <td>A</td>\n",
       "      <td>06/11/2015</td>\n",
       "      <td>GOODS</td>\n",
       "      <td></td>\n",
       "      <td>NaN</td>\n",
       "      <td>\"10-2015\"</td>\n",
       "      <td>Staple Foods</td>\n",
       "    </tr>\n",
       "    <tr>\n",
       "      <th>6</th>\n",
       "      <td>030-1516</td>\n",
       "      <td>30</td>\n",
       "      <td>Wontons filled with {indicate filling, e.g., m...</td>\n",
       "      <td>A</td>\n",
       "      <td>06/11/2015</td>\n",
       "      <td>GOODS</td>\n",
       "      <td>Wontons is acceptable wording; further specifi...</td>\n",
       "      <td>NaN</td>\n",
       "      <td>\"10-2015\"</td>\n",
       "      <td>Staple Foods</td>\n",
       "    </tr>\n",
       "    <tr>\n",
       "      <th>7</th>\n",
       "      <td>012-1135</td>\n",
       "      <td>12</td>\n",
       "      <td>Fitted car seat covers</td>\n",
       "      <td>X</td>\n",
       "      <td>06/11/2015</td>\n",
       "      <td>GOODS</td>\n",
       "      <td>On 06-11-2015, this 02-07-2013 entry \"Car seat...</td>\n",
       "      <td>NaN</td>\n",
       "      <td>\"10-2015\"</td>\n",
       "      <td>Vehicles</td>\n",
       "    </tr>\n",
       "    <tr>\n",
       "      <th>8</th>\n",
       "      <td>012-789</td>\n",
       "      <td>12</td>\n",
       "      <td>Fitted seat covers for vehicles</td>\n",
       "      <td>X</td>\n",
       "      <td>06/11/2015</td>\n",
       "      <td>GOODS</td>\n",
       "      <td>On 06-11-2015, this 11-15-2007 entry was amend...</td>\n",
       "      <td>NaN</td>\n",
       "      <td>\"10-2015\"</td>\n",
       "      <td>Vehicles</td>\n",
       "    </tr>\n",
       "    <tr>\n",
       "      <th>9</th>\n",
       "      <td>005-1878</td>\n",
       "      <td>5</td>\n",
       "      <td>Pharmaceutical preparations, namely, antivirals</td>\n",
       "      <td>X</td>\n",
       "      <td>06/11/2015</td>\n",
       "      <td>GOODS</td>\n",
       "      <td>Antivirals is acceptable wording; further spec...</td>\n",
       "      <td>NaN</td>\n",
       "      <td>\"10-2015\"</td>\n",
       "      <td>Pharmaceuticals</td>\n",
       "    </tr>\n",
       "  </tbody>\n",
       "</table>\n",
       "</div>"
      ],
      "text/plain": [
       "    Term ID  Class                                        Description Status  \\\n",
       "0   010-859     10  Nebulizer for administering medication in the ...      M   \n",
       "1    024-65     24                                            Brocade      A   \n",
       "2    024-85     24                                     Cheviot fabric      A   \n",
       "3   024-152     24                                             Duvets      A   \n",
       "4  024-1326     24           Unfitted fabric covers for vehicle seats      A   \n",
       "5  030-1515     30                                            Wontons      A   \n",
       "6  030-1516     30  Wontons filled with {indicate filling, e.g., m...      A   \n",
       "7  012-1135     12                             Fitted car seat covers      X   \n",
       "8   012-789     12                    Fitted seat covers for vehicles      X   \n",
       "9  005-1878      5    Pharmaceutical preparations, namely, antivirals      X   \n",
       "\n",
       "  Effective Date   Type                                              Notes  \\\n",
       "0     06/04/2015  GOODS  On 06-04-2015, this 08-07-2008 entry was amend...   \n",
       "1     04/02/1991  GOODS  06-04-2015: Brocade is a fabric woven with an ...   \n",
       "2     04/02/1991  GOODS  06-04-2015: Cheviot fabric is a coarse woolen ...   \n",
       "3     04/02/1991  GOODS  06-04-2015: A duvet is a type of quilt, usuall...   \n",
       "4     06/04/2015  GOODS                                                      \n",
       "5     06/11/2015  GOODS                                                      \n",
       "6     06/11/2015  GOODS  Wontons is acceptable wording; further specifi...   \n",
       "7     06/11/2015  GOODS  On 06-11-2015, this 02-07-2013 entry \"Car seat...   \n",
       "8     06/11/2015  GOODS  On 06-11-2015, this 11-15-2007 entry was amend...   \n",
       "9     06/11/2015  GOODS  Antivirals is acceptable wording; further spec...   \n",
       "\n",
       "   TM5 NCL Version         Class Name  \n",
       "0  NaN   \"10-2015\"  Medical Apparatus  \n",
       "1  NaN   \"07-1997\"            Fabrics  \n",
       "2  NaN   \"07-1997\"            Fabrics  \n",
       "3    T   \"07-1997\"            Fabrics  \n",
       "4  NaN   \"10-2015\"            Fabrics  \n",
       "5  NaN   \"10-2015\"       Staple Foods  \n",
       "6  NaN   \"10-2015\"       Staple Foods  \n",
       "7  NaN   \"10-2015\"           Vehicles  \n",
       "8  NaN   \"10-2015\"           Vehicles  \n",
       "9  NaN   \"10-2015\"    Pharmaceuticals  "
      ]
     },
     "execution_count": 63,
     "metadata": {},
     "output_type": "execute_result"
    }
   ],
   "source": [
    "class_name=[]\n",
    "\n",
    "for a in data['Class']:\n",
    "    class_name.append(classes[a])\n",
    "\n",
    "data[\"Class Name\"]=class_name\n",
    "\n",
    "data[\"Notes\"]=data[\"Notes\"].replace({None:\"\"})\n",
    "\n",
    "data.head(10)"
   ]
  },
  {
   "cell_type": "code",
   "execution_count": 64,
   "metadata": {},
   "outputs": [
    {
     "name": "stdout",
     "output_type": "stream",
     "text": [
      "(44804, 10)\n"
     ]
    }
   ],
   "source": [
    "print(data[data[\"TM5\"].isnull()].shape)\n",
    "\n",
    "data=data.drop('TM5',axis=1)"
   ]
  },
  {
   "cell_type": "code",
   "execution_count": 65,
   "metadata": {},
   "outputs": [
    {
     "data": {
      "text/html": [
       "<div>\n",
       "<style scoped>\n",
       "    .dataframe tbody tr th:only-of-type {\n",
       "        vertical-align: middle;\n",
       "    }\n",
       "\n",
       "    .dataframe tbody tr th {\n",
       "        vertical-align: top;\n",
       "    }\n",
       "\n",
       "    .dataframe thead th {\n",
       "        text-align: right;\n",
       "    }\n",
       "</style>\n",
       "<table border=\"1\" class=\"dataframe\">\n",
       "  <thead>\n",
       "    <tr style=\"text-align: right;\">\n",
       "      <th></th>\n",
       "      <th>Term ID</th>\n",
       "      <th>Class</th>\n",
       "      <th>Description</th>\n",
       "      <th>Status</th>\n",
       "      <th>Effective Date</th>\n",
       "      <th>Type</th>\n",
       "      <th>Notes</th>\n",
       "      <th>NCL Version</th>\n",
       "      <th>Class Name</th>\n",
       "    </tr>\n",
       "  </thead>\n",
       "  <tbody>\n",
       "    <tr>\n",
       "      <th>0</th>\n",
       "      <td>010-859</td>\n",
       "      <td>10</td>\n",
       "      <td>Nebulizer for administering medication in the ...</td>\n",
       "      <td>M</td>\n",
       "      <td>06/04/2015</td>\n",
       "      <td>GOODS</td>\n",
       "      <td>On 06-04-2015, this 08-07-2008 entry was amend...</td>\n",
       "      <td>\"10-2015\"</td>\n",
       "      <td>Medical Apparatus</td>\n",
       "    </tr>\n",
       "    <tr>\n",
       "      <th>1</th>\n",
       "      <td>024-65</td>\n",
       "      <td>24</td>\n",
       "      <td>Brocade</td>\n",
       "      <td>A</td>\n",
       "      <td>04/02/1991</td>\n",
       "      <td>GOODS</td>\n",
       "      <td>06-04-2015: Brocade is a fabric woven with an ...</td>\n",
       "      <td>\"07-1997\"</td>\n",
       "      <td>Fabrics</td>\n",
       "    </tr>\n",
       "    <tr>\n",
       "      <th>2</th>\n",
       "      <td>024-85</td>\n",
       "      <td>24</td>\n",
       "      <td>Cheviot fabric</td>\n",
       "      <td>A</td>\n",
       "      <td>04/02/1991</td>\n",
       "      <td>GOODS</td>\n",
       "      <td>06-04-2015: Cheviot fabric is a coarse woolen ...</td>\n",
       "      <td>\"07-1997\"</td>\n",
       "      <td>Fabrics</td>\n",
       "    </tr>\n",
       "    <tr>\n",
       "      <th>3</th>\n",
       "      <td>024-152</td>\n",
       "      <td>24</td>\n",
       "      <td>Duvets</td>\n",
       "      <td>A</td>\n",
       "      <td>04/02/1991</td>\n",
       "      <td>GOODS</td>\n",
       "      <td>06-04-2015: A duvet is a type of quilt, usuall...</td>\n",
       "      <td>\"07-1997\"</td>\n",
       "      <td>Fabrics</td>\n",
       "    </tr>\n",
       "    <tr>\n",
       "      <th>4</th>\n",
       "      <td>024-1326</td>\n",
       "      <td>24</td>\n",
       "      <td>Unfitted fabric covers for vehicle seats</td>\n",
       "      <td>A</td>\n",
       "      <td>06/04/2015</td>\n",
       "      <td>GOODS</td>\n",
       "      <td></td>\n",
       "      <td>\"10-2015\"</td>\n",
       "      <td>Fabrics</td>\n",
       "    </tr>\n",
       "  </tbody>\n",
       "</table>\n",
       "</div>"
      ],
      "text/plain": [
       "    Term ID  Class                                        Description Status  \\\n",
       "0   010-859     10  Nebulizer for administering medication in the ...      M   \n",
       "1    024-65     24                                            Brocade      A   \n",
       "2    024-85     24                                     Cheviot fabric      A   \n",
       "3   024-152     24                                             Duvets      A   \n",
       "4  024-1326     24           Unfitted fabric covers for vehicle seats      A   \n",
       "\n",
       "  Effective Date   Type                                              Notes  \\\n",
       "0     06/04/2015  GOODS  On 06-04-2015, this 08-07-2008 entry was amend...   \n",
       "1     04/02/1991  GOODS  06-04-2015: Brocade is a fabric woven with an ...   \n",
       "2     04/02/1991  GOODS  06-04-2015: Cheviot fabric is a coarse woolen ...   \n",
       "3     04/02/1991  GOODS  06-04-2015: A duvet is a type of quilt, usuall...   \n",
       "4     06/04/2015  GOODS                                                      \n",
       "\n",
       "  NCL Version         Class Name  \n",
       "0   \"10-2015\"  Medical Apparatus  \n",
       "1   \"07-1997\"            Fabrics  \n",
       "2   \"07-1997\"            Fabrics  \n",
       "3   \"07-1997\"            Fabrics  \n",
       "4   \"10-2015\"            Fabrics  "
      ]
     },
     "execution_count": 65,
     "metadata": {},
     "output_type": "execute_result"
    }
   ],
   "source": [
    "data.to_json('data_with_classnames.json',orient=\"records\")\n",
    "data.head(5)"
   ]
  },
  {
   "cell_type": "markdown",
   "metadata": {},
   "source": [
    "Pinecone Insertion"
   ]
  },
  {
   "cell_type": "code",
   "execution_count": null,
   "metadata": {},
   "outputs": [],
   "source": [
    "from pinecone import Pinecone,ServerlessSpec\n",
    "\n",
    "index_name='patent-recommendation-system'\n",
    "pc = Pinecone(api_key=os.getenv('PINECONE_API_KEY'))\n",
    "\n",
    "from langchain_pinecone import PineconeVectorStore\n",
    "\n",
    "# create new index\n",
    "if index_name not in pc.list_indexes().names():\n",
    "    pc.create_index(\n",
    "        name=index_name,\n",
    "        dimension=1536,\n",
    "        metric=\"cosine\",\n",
    "        spec=ServerlessSpec(cloud=\"aws\", region=\"us-east-1\"),\n",
    "    )"
   ]
  },
  {
   "cell_type": "code",
   "execution_count": 66,
   "metadata": {},
   "outputs": [],
   "source": [
    "\n",
    "dataset=[]\n",
    "import json\n",
    "with open('data_with_classnames.json', 'r') as file:\n",
    "    data = json.load(file)\n",
    "\n",
    "for a in data:\n",
    "    page_content=a.pop('Description')\n",
    "    dataset.append({\"page_content\":page_content,\"metadata\":a})\n",
    "\n",
    "with open(\"data_set_for_insertion.json\", \"w\") as outfile:\n",
    "    json.dump(dataset, outfile)\n"
   ]
  },
  {
   "cell_type": "code",
   "execution_count": null,
   "metadata": {},
   "outputs": [],
   "source": [
    "from pinecone_text.sparse import BM25Encoder\n",
    "\n",
    "file_path=\"data_with_classnames.json\"\n",
    "\n",
    "with open(file_path, 'r', encoding='utf-8') as file:\n",
    "    data = json.load(file)\n",
    "\n",
    "# use default tf-idf values\n",
    "bm25_encoder = BM25Encoder().default()\n",
    "\n",
    "corpus=[]\n",
    "for a in data:\n",
    "    tuples=a.items()\n",
    "    stri=\"\"\n",
    "    for a in tuples:\n",
    "        stri=stri+\" \"+f\"{a[0]}: {a[1]}\"\n",
    "    corpus.append(stri)\n",
    "\n",
    "# fit tf-idf values on your corpus\n",
    "bm25_encoder.fit(corpus)\n",
    "\n",
    "# store the values to a json file\n",
    "bm25_encoder.dump(\"bm25_values.json\")\n",
    "\n",
    "# load to your BM25Encoder object\n",
    "bm25_encoder = BM25Encoder().load(\"bm25_values.json\")"
   ]
  },
  {
   "cell_type": "code",
   "execution_count": 6,
   "metadata": {},
   "outputs": [],
   "source": [
    "from langchain_community.retrievers import PineconeHybridSearchRetriever\n",
    "\n",
    "index = pc.Index('patent-recommendation-system')\n",
    "\n",
    "retriever = PineconeHybridSearchRetriever(\n",
    "    embeddings=embeddings, sparse_encoder=bm25_encoder, index=index\n",
    ")"
   ]
  },
  {
   "cell_type": "code",
   "execution_count": null,
   "metadata": {},
   "outputs": [],
   "source": [
    "import json\n",
    "with open('data_set_for_insertion.json', 'r') as file:\n",
    "    data = json.load(file)\n",
    "\n",
    "texts = []\n",
    "metadatas = []\n",
    "\n",
    "for entry in data:\n",
    "    page_content = entry.get('page_content',)\n",
    "    texts.append(page_content)\n",
    "    metadata = entry.get('metadata', {})\n",
    "    metadata['text'] = page_content\n",
    "    metadatas.append(metadata)\n",
    "retriever.add_texts(texts=texts, metadatas=metadatas)"
   ]
  },
  {
   "cell_type": "code",
   "execution_count": null,
   "metadata": {},
   "outputs": [],
   "source": []
  },
  {
   "cell_type": "code",
   "execution_count": null,
   "metadata": {},
   "outputs": [],
   "source": []
  },
  {
   "cell_type": "code",
   "execution_count": null,
   "metadata": {},
   "outputs": [],
   "source": []
  }
 ],
 "metadata": {
  "kernelspec": {
   "display_name": "mlengineer",
   "language": "python",
   "name": "python3"
  },
  "language_info": {
   "codemirror_mode": {
    "name": "ipython",
    "version": 3
   },
   "file_extension": ".py",
   "mimetype": "text/x-python",
   "name": "python",
   "nbconvert_exporter": "python",
   "pygments_lexer": "ipython3",
   "version": "3.12.7"
  }
 },
 "nbformat": 4,
 "nbformat_minor": 2
}
